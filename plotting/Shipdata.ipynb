{
 "cells": [
  {
   "cell_type": "code",
   "execution_count": 1,
   "id": "8c152e21-b596-407e-a890-9d82c093edcf",
   "metadata": {},
   "outputs": [],
   "source": [
    "import numpy as np\n",
    "import dask , dask.distributed\n",
    "import xarray as xr\n",
    "import matplotlib.pyplot as plt\n",
    "import cartopy.crs as ccrs\n",
    "import cmocean.cm as cmo\n",
    "import warnings\n",
    "warnings.simplefilter('ignore')\n",
    "import dask_jobqueue\n",
    "from astropy.convolution import Box2DKernel, convolve\n",
    "from cartopy.mpl.ticker import (LongitudeFormatter, LatitudeFormatter,\n",
    "                                LatitudeLocator, LongitudeLocator)\n",
    "import matplotlib.gridspec as gridspec\n",
    "from fix_grid import fix_grid\n",
    "\n",
    "from scipy.io import loadmat\n",
    "\n"
   ]
  },
  {
   "cell_type": "markdown",
   "id": "7f980c2b-a20e-425b-96fe-a8b128d7ec40",
   "metadata": {},
   "source": [
    "In this script, I just peeked into the available ship data"
   ]
  },
  {
   "cell_type": "code",
   "execution_count": 15,
   "id": "2990ba94-c532-40fe-a726-7c4ee385fea3",
   "metadata": {},
   "outputs": [
    {
     "name": "stdout",
     "output_type": "stream",
     "text": [
      "dict_keys(['__header__', '__version__', '__globals__', 'SLA', 'SST_CO2', 'lat_pco2', 'latitude', 'latitude_ctd', 'lon_pco2', 'longitude', 'longitude_ctd', 'oxygen_ctd', 'temperature_ctd', 'xCO2'])\n"
     ]
    }
   ],
   "source": [
    "# Load the .mat file\n",
    "data = loadmat('/gxfs_home/geomar/smomw577/m_90_T_O_CO2.mat')\n",
    "\n",
    "# Print the variable names inside the .mat file\n",
    "print(data.keys())\n",
    "\n",
    "# Access a specific variable (assuming the file contains a variable called 'array_name')\n",
    "SLA = data['SLA']\n",
    "SST = data['SST_CO2']\n",
    "O2 = data['oxygen_ctd']\n",
    "CO2 = data['xCO2']\n",
    "lon_ctd = data['longitude_ctd']\n",
    "longi = data['lon_pco2']"
   ]
  },
  {
   "cell_type": "code",
   "execution_count": 30,
   "id": "db31fe8c-4057-4283-86f9-7608117a5a3c",
   "metadata": {},
   "outputs": [
    {
     "data": {
      "text/plain": [
       "[<matplotlib.lines.Line2D at 0x1490f53b82b0>]"
      ]
     },
     "execution_count": 30,
     "metadata": {},
     "output_type": "execute_result"
    },
    {
     "data": {
      "image/png": "[encoded data removed]",
      "text/plain": [
       "<Figure size 432x288 with 1 Axes>"
      ]
     },
     "metadata": {
      "needs_background": "light"
     },
     "output_type": "display_data"
    }
   ],
   "source": [
    "plt.plot(lon_ctd[0],O2[0]);\n",
    "plt.plot(lon_ctd[0],O2[0]);\n",
    "plt.plot(longi[:,0],CO2[:,0])\n",
    "plt.plot(longi[:,0],SST[:,0])"
   ]
  },
  {
   "cell_type": "code",
   "execution_count": null,
   "id": "44b545b1-5dce-4af0-99ea-ab63a932ba79",
   "metadata": {},
   "outputs": [],
   "source": []
  }
 ],
 "metadata": {
  "kernelspec": {
   "display_name": "Python [conda env:py3_std]",
   "language": "python",
   "name": "conda-env-py3_std-py"
  },
  "language_info": {
   "codemirror_mode": {
    "name": "ipython",
    "version": 3
   },
   "file_extension": ".py",
   "mimetype": "text/x-python",
   "name": "python",
   "nbconvert_exporter": "python",
   "pygments_lexer": "ipython3",
   "version": "3.9.18"
  }
 },
 "nbformat": 4,
 "nbformat_minor": 5
}
