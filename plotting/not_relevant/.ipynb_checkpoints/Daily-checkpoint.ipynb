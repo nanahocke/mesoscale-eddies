{
 "cells": [
  {
   "cell_type": "code",
   "execution_count": null,
   "id": "37a5dc8f-9793-40b0-9bb1-013e72588a25",
   "metadata": {},
   "outputs": [],
   "source": [
    "import numpy as np\n",
    "import dask , dask.distributed\n",
    "import xarray as xr\n",
    "import matplotlib.pyplot as plt\n",
    "import cartopy.crs as ccrs\n",
    "import cartopy\n",
    "import cmocean.cm as cmo\n",
    "import warnings\n",
    "warnings.simplefilter('ignore')\n",
    "import dask_jobqueue\n",
    "from astropy.convolution import Box2DKernel, convolve\n",
    "from cartopy.mpl.ticker import (LongitudeFormatter, LatitudeFormatter,\n",
    "                                LatitudeLocator, LongitudeLocator)\n",
    "import matplotlib.colors as colors\n",
    "import pandas as pd\n",
    "from fix_grid import fix_grid"
   ]
  },
  {
   "cell_type": "code",
   "execution_count": null,
   "id": "4d6299af-9e2e-4411-93f9-067c21ed5a92",
   "metadata": {},
   "outputs": [],
   "source": [
    "pathf='/gxfs_work/geomar/smomw577/mesoscale_eddies/BOX_filtered/'\n",
    "dsa=xr.open_dataset(pathf+'3x3_boxfilter_anomaly_daily.nc', chunks={\"xt_ocean\": 10, \"yt_ocean\":10})"
   ]
  },
  {
   "cell_type": "code",
   "execution_count": null,
   "id": "9365014a-0a89-4829-9920-b622a05f2986",
   "metadata": {},
   "outputs": [],
   "source": [
    "correlations=xr.open_dataset('/gxfs_work/geomar/smomw577/mesoscale_eddies/BOX_filtered/3x3_boxfilter_ssh_correlations_daily.nc')"
   ]
  },
  {
   "cell_type": "code",
   "execution_count": null,
   "id": "ce5d549f-9e68-4c04-b48c-0e153e006e8d",
   "metadata": {},
   "outputs": [],
   "source": [
    "dsa=fix_grid(dsa)\n",
    "correlations=fix_grid(correlations)"
   ]
  },
  {
   "cell_type": "code",
   "execution_count": null,
   "id": "e8356c17-f79a-495f-be48-afaeeb88231a",
   "metadata": {},
   "outputs": [],
   "source": [
    "### global correlation"
   ]
  },
  {
   "cell_type": "code",
   "execution_count": null,
   "id": "80f56f47-7f96-48a0-8797-6a39f5a4be6c",
   "metadata": {},
   "outputs": [],
   "source": [
    "fig, axs= plt.subplots(nrows=1, ncols=3 , figsize=(18,3),subplot_kw={'projection': ccrs.PlateCarree()})\n",
    "im=correlations.corr_ssh_sst.plot(ax=axs[0], vmin=-1, vmax=1, cmap=cmo.balance, transform = ccrs.PlateCarree(),\n",
    "                              add_colorbar=False)\n",
    "correlations.corr_ssh_o2.plot(ax=axs[1], vmin=-1, vmax=1, cmap=cmo.balance, transform = ccrs.PlateCarree(),\n",
    "                             add_colorbar=False)\n",
    "correlations.corr_ssh_dic.plot(ax=axs[2], vmin=-1, vmax=1, cmap=cmo.balance, transform = ccrs.PlateCarree(),\n",
    "                              add_colorbar=False)\n",
    "\n",
    "for i in range(3):\n",
    "    gl = axs[i].gridlines(crs=ccrs.PlateCarree(), draw_labels=True,\n",
    "                      linewidth=1, color='black', alpha=0)\n",
    "    gl.xlabels_top = False\n",
    "    gl.ylabels_left = False\n",
    "\n",
    "axs[0].set_title('Corr SSH-SST');\n",
    "axs[1].set_title('Corr SSH-O2');\n",
    "axs[2].set_title('Corr SSH-DIC');\n",
    "\n",
    "cbar_ax = fig.add_axes([0.2, 0.0, 0.6, 0.05])  # Left, bottom, width, height.\n",
    "cbar = fig.colorbar(im, cax=cbar_ax, orientation='horizontal')\n",
    "\n",
    "plt.savefig('/gxfs_home/geomar/smomw577/plots/Boxcar/correlations/3x3_boxcar_global_corr_daily.png', bbox_inches=\"tight\", dpi=300)"
   ]
  },
  {
   "cell_type": "code",
   "execution_count": null,
   "id": "621783e6-0ccb-4cfc-b104-4d05d9ffdf36",
   "metadata": {},
   "outputs": [],
   "source": [
    "## agulhas region"
   ]
  },
  {
   "cell_type": "code",
   "execution_count": null,
   "id": "f47aed28-d882-4ec8-821c-19b323f50d25",
   "metadata": {},
   "outputs": [],
   "source": [
    "ds_agulhas=correlations.sel(xt_ocean=slice(0,50), yt_ocean=slice(-45,-30))"
   ]
  },
  {
   "cell_type": "code",
   "execution_count": null,
   "id": "52229d73-332f-4c71-8d5e-595f37bad3da",
   "metadata": {},
   "outputs": [],
   "source": [
    "fig, axs= plt.subplots(nrows=1, ncols=3 , figsize=(18,2.5),subplot_kw={'projection': ccrs.PlateCarree()})\n",
    "im=ds_agulhas.corr_ssh_sst.plot(ax=axs[0], vmin=-1, vmax=1, cmap=cmo.balance, transform = ccrs.PlateCarree(),\n",
    "                              add_colorbar=False)\n",
    "ds_agulhas.corr_ssh_o2.plot(ax=axs[1], vmin=-1, vmax=1, cmap=cmo.balance, transform = ccrs.PlateCarree(),\n",
    "                             add_colorbar=False)\n",
    "ds_agulhas.corr_ssh_dic.plot(ax=axs[2], vmin=-1, vmax=1, cmap=cmo.balance, transform = ccrs.PlateCarree(),\n",
    "                              add_colorbar=False)\n",
    "\n",
    "for i in range(3):\n",
    "    gl = axs[i].gridlines(crs=ccrs.PlateCarree(), draw_labels=True,\n",
    "                      linewidth=1, color='black', alpha=0)\n",
    "    gl.xlabels_top = False\n",
    "    gl.ylabels_left = False\n",
    "\n",
    "axs[0].set_title('Corr SSH-SST');\n",
    "axs[1].set_title('Corr SSH-O2');\n",
    "axs[2].set_title('Corr SSH-DIC');\n",
    "\n",
    "cbar_ax = fig.add_axes([0.2, 0.0, 0.6, 0.05])  # Left, bottom, width, height.\n",
    "cbar = fig.colorbar(im, cax=cbar_ax, orientation='horizontal')\n",
    "\n",
    "plt.savefig('/gxfs_home/geomar/smomw577/plots/Boxcar/correlations/3x3_boxcar_agulhas_corr_daily.png', bbox_inches=\"tight\", dpi=300)"
   ]
  },
  {
   "cell_type": "code",
   "execution_count": null,
   "id": "a275f146-a758-445d-9296-aa3c7034a309",
   "metadata": {},
   "outputs": [],
   "source": [
    "### global anomalies example day"
   ]
  },
  {
   "cell_type": "code",
   "execution_count": null,
   "id": "ecc47c91-9002-44c5-a42a-8a756e50fa81",
   "metadata": {},
   "outputs": [],
   "source": [
    "fig, axs= plt.subplots(nrows=2, ncols=2 , figsize=(15,7),subplot_kw={'projection': ccrs.PlateCarree()})\n",
    "axs=axs.flatten()\n",
    "dsa.isel(time=0).SSH.plot(ax=axs[0], vmin=-.2, vmax=.2, cmap=cmo.balance, transform = ccrs.PlateCarree(), add_colorbar=True)\n",
    "dsa.isel(time=0).SST.plot(ax=axs[1], vmin=-2, vmax=2, cmap=cmo.balance, transform = ccrs.PlateCarree(), add_colorbar=True)\n",
    "dsa.isel(time=0).dic_stf.plot(ax=axs[2], vmin=-2, vmax=2, cmap=cmo.balance, transform = ccrs.PlateCarree(), add_colorbar=True)\n",
    "dsa.isel(time=0).o2_stf.plot(ax=axs[3], vmin=-8, vmax=8, cmap=cmo.balance, transform = ccrs.PlateCarree(), add_colorbar=True)\n",
    "\n",
    "for i in range(4):\n",
    "    gl = axs[i].gridlines(crs=ccrs.PlateCarree(), draw_labels=True,\n",
    "                      linewidth=1, color='black', alpha=0)\n",
    "    gl.xlabels_top = False\n",
    "    gl.ylabels_right = False\n",
    "\n",
    "\n",
    "axs[0].set_title('SSH [m]');\n",
    "axs[1].set_title('SST [°C]');\n",
    "axs[2].set_title('DIC [mole/m^2*yr]');\n",
    "axs[3].set_title('O2 [mole/m^2*yr]');\n",
    "\n",
    "plt.subplots_adjust(hspace=0.02, wspace=0.1)\n",
    "plt.savefig('/gxfs_home/geomar/smomw577/plots/Boxcar/correlations/3x3_boxcar_global_ano_day1.png', bbox_inches=\"tight\", dpi=300)"
   ]
  },
  {
   "cell_type": "code",
   "execution_count": null,
   "id": "886c90b1-067b-4e5b-8f45-8532872125e8",
   "metadata": {},
   "outputs": [],
   "source": [
    "#### agulhas anomalies example day"
   ]
  },
  {
   "cell_type": "code",
   "execution_count": null,
   "id": "76dc84be-9a63-428e-993b-e24e1c611c6a",
   "metadata": {},
   "outputs": [],
   "source": [
    "agday0=dsa.isel(time=0).sel(xt_ocean=slice(0,50), yt_ocean=slice(-45,-30))"
   ]
  },
  {
   "cell_type": "code",
   "execution_count": null,
   "id": "7995ad67-c5e0-4425-b342-95255a500729",
   "metadata": {},
   "outputs": [],
   "source": [
    "fig, axs= plt.subplots(nrows=2, ncols=2 , figsize=(15,7),subplot_kw={'projection': ccrs.PlateCarree()})\n",
    "axs=axs.flatten()\n",
    "\n",
    "agday0.SSH.plot(ax=axs[0], vmin=-0.4, vmax=0.4, cmap=cmo.balance, transform = ccrs.PlateCarree())\n",
    "agday0.SST.plot(ax=axs[1], vmin=-2, vmax=2, cmap=cmo.balance, transform = ccrs.PlateCarree())\n",
    "agday0.dic_stf.plot(ax=axs[2],vmin=-2, vmax=2, cmap=cmo.balance, transform = ccrs.PlateCarree())\n",
    "agday0.o2_stf.plot(ax=axs[3],vmin=-8, vmax=8, cmap=cmo.balance, transform = ccrs.PlateCarree());\n",
    "\n",
    "for i in range(4):\n",
    "    gl = axs[i].gridlines(crs=ccrs.PlateCarree(), draw_labels=True,\n",
    "                      linewidth=1, color='black', alpha=0)\n",
    "    gl.xlabels_top = False\n",
    "    gl.ylabels_right = False\n",
    "\n",
    "axs[0].set_title('SSH [m]');\n",
    "axs[1].set_title('SST [°C]');\n",
    "axs[2].set_title('DIC [mole/m^2*yr]');\n",
    "axs[3].set_title('O2 [mole/m^2*yr]');\n",
    "plt.subplots_adjust(hspace=0.02, wspace=0.1)\n",
    "plt.savefig('/gxfs_home/geomar/smomw577/plots/Boxcar/correlations/3x3_boxcar_agulhas_ano_day1.png', bbox_inches=\"tight\", dpi=300)"
   ]
  }
 ],
 "metadata": {
  "kernelspec": {
   "display_name": "Python [conda env:py3_std]",
   "language": "python",
   "name": "conda-env-py3_std-py"
  },
  "language_info": {
   "codemirror_mode": {
    "name": "ipython",
    "version": 3
   },
   "file_extension": ".py",
   "mimetype": "text/x-python",
   "name": "python",
   "nbconvert_exporter": "python",
   "pygments_lexer": "ipython3",
   "version": "3.9.18"
  }
 },
 "nbformat": 4,
 "nbformat_minor": 5
}
