{
 "cells": [
  {
   "cell_type": "code",
   "execution_count": 1,
   "id": "ea9a7565-acdf-4e78-9569-eac4b17b753d",
   "metadata": {},
   "outputs": [],
   "source": [
    "import numpy as np\n",
    "import dask , dask.distributed\n",
    "import xarray as xr\n",
    "import matplotlib.pyplot as plt\n",
    "import cartopy.crs as ccrs\n",
    "import cartopy\n",
    "import cmocean.cm as cmo\n",
    "import warnings\n",
    "warnings.simplefilter('ignore')\n",
    "import dask_jobqueue\n",
    "from astropy.convolution import Box2DKernel, convolve\n",
    "from cartopy.mpl.ticker import (LongitudeFormatter, LatitudeFormatter,\n",
    "                                LatitudeLocator, LongitudeLocator)\n",
    "import matplotlib.colors as colors\n",
    "import pandas as pd\n",
    "from fix_grid import fix_grid \n",
    "import matplotlib.gridspec as gridspec\n",
    "from mpl_toolkits.axes_grid1 import make_axes_locatable\n",
    "from useful_calculations import weighted_means"
   ]
  },
  {
   "cell_type": "code",
   "execution_count": 2,
   "id": "cba3babb-792a-4754-9df0-5e3dec62d999",
   "metadata": {},
   "outputs": [],
   "source": [
    "ds_mom=xr.open_dataset('/gxfs_work/geomar/smomw577/mesoscale_eddies/MOM5_concat/0181-0190/MOM5_monthly_0181-0190_noice_all.nc')\n",
    "pathp='/gxfs_home/geomar/smomw577/plots/Boxcar/0181-0190/'\n",
    "pathf='/gxfs_work/geomar/smomw577/mesoscale_eddies/BOX_filtered/0181-0190/'\n",
    "dsa=xr.open_dataset(pathf+'3x3box_median_anomaly_monthly_0181-0190_all.nc')\n",
    "corr=xr.open_dataset(pathf+'3x3box_median_corr_monthly_0181-0190_all.nc')\n",
    "ds=xr.open_dataset('/gxfs_work/geomar/smomw577/mesoscale_eddies/MOM5_concat/0181-0190/mean_std_control_noice.nc', chunks='auto')\n",
    "ds_cc=xr.open_dataset('/gxfs_work/geomar/smomw577/mesoscale_eddies/MOM5_concat/0181-0190/mean_std_1PctTo2X_noice.nc', chunks='auto')"
   ]
  },
  {
   "cell_type": "code",
   "execution_count": 3,
   "id": "6d7a64d8-14f8-4fb3-9574-11101cd61989",
   "metadata": {},
   "outputs": [],
   "source": [
    "ds_mom=fix_grid(ds_mom)\n",
    "dsa=fix_grid(dsa)\n",
    "corr=fix_grid(corr)\n",
    "ds=fix_grid(ds)\n",
    "ds_cc=fix_grid(ds_cc)"
   ]
  },
  {
   "cell_type": "code",
   "execution_count": 4,
   "id": "afc11a87-7116-4821-ae5f-d88a1cb808fe",
   "metadata": {},
   "outputs": [],
   "source": [
    "##run this only if the chapter \"save masks in file\" was already done\n",
    "\n",
    "ds_mask=xr.open_dataset(pathf+'mask_gases_total.nc')\n",
    "ds_mask_cc=xr.open_dataset(pathf+'mask_gases_total_cc.nc')\n",
    "mask=fix_grid(ds_mask)\n",
    "mask_cc=fix_grid(ds_mask_cc)"
   ]
  },
  {
   "cell_type": "code",
   "execution_count": 5,
   "id": "1c874189-5ef9-4d93-bad3-e9e4e49e26a8",
   "metadata": {},
   "outputs": [],
   "source": [
    "cat_ctrl=xr.open_dataset(pathf+'categorization_wind.nc')\n",
    "cat_cc=xr.open_dataset(pathf+'categorization_wind_1PctTo2X.nc')"
   ]
  },
  {
   "cell_type": "code",
   "execution_count": 6,
   "id": "b4227b5f-1efc-4fd9-8714-3c9202fd5856",
   "metadata": {},
   "outputs": [],
   "source": [
    "windano=xr.open_dataset(pathf+'3x3box_median_anomaly_monthly_0181-0190_wind.nc').wind_power"
   ]
  },
  {
   "cell_type": "markdown",
   "id": "40a2aa36-2929-4ca6-97ad-310ba0f68e64",
   "metadata": {},
   "source": [
    "# global wind correlations"
   ]
  },
  {
   "cell_type": "code",
   "execution_count": 7,
   "id": "6284521c-c383-4dbe-933a-c5d89c4d09d4",
   "metadata": {},
   "outputs": [],
   "source": [
    "wind_SST_corr=xr.corr(dsa.SST, windano, dim='time')"
   ]
  },
  {
   "cell_type": "code",
   "execution_count": null,
   "id": "85afadcc-f69e-41e4-9a5a-adbfd728fe2f",
   "metadata": {},
   "outputs": [],
   "source": [
    "wind_sh_corr=xr.corr(dsa.sens_heat, windano, dim='time')"
   ]
  },
  {
   "cell_type": "code",
   "execution_count": null,
   "id": "df9561c3-8abd-4b59-8250-b966f5e52b09",
   "metadata": {},
   "outputs": [],
   "source": [
    "wind_lh_corr=xr.corr(dsa.evap_heat, windano, dim='time')"
   ]
  },
  {
   "cell_type": "code",
   "execution_count": null,
   "id": "3ef3c488-b9ea-49cf-a8a4-4dd23d44a573",
   "metadata": {},
   "outputs": [],
   "source": [
    "wind_co2_corr=xr.corr(dsa.dic_stf, windano, dim='time')"
   ]
  },
  {
   "cell_type": "code",
   "execution_count": null,
   "id": "9f67b51f-71eb-4c5f-873d-af1f0383d680",
   "metadata": {},
   "outputs": [],
   "source": [
    "wind_o2_corr=xr.corr(dsa.o2_stf, windano, dim='time')"
   ]
  },
  {
   "cell_type": "code",
   "execution_count": null,
   "id": "0e689b95-77a6-465f-bc38-81fd68876dbc",
   "metadata": {},
   "outputs": [],
   "source": []
  }
 ],
 "metadata": {
  "kernelspec": {
   "display_name": "Python [conda env:py3_std]",
   "language": "python",
   "name": "conda-env-py3_std-py"
  },
  "language_info": {
   "codemirror_mode": {
    "name": "ipython",
    "version": 3
   },
   "file_extension": ".py",
   "mimetype": "text/x-python",
   "name": "python",
   "nbconvert_exporter": "python",
   "pygments_lexer": "ipython3",
   "version": "3.9.18"
  }
 },
 "nbformat": 4,
 "nbformat_minor": 5
}
