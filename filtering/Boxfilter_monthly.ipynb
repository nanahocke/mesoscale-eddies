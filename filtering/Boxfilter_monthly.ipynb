{
 "cells": [
  {
   "cell_type": "code",
   "execution_count": 3,
   "id": "a98c9973-9b4e-49e0-8867-61b5968de0fe",
   "metadata": {},
   "outputs": [
    {
     "ename": "ModuleNotFoundError",
     "evalue": "No module named 'xskillscore'",
     "output_type": "error",
     "traceback": [
      "\u001b[0;31m---------------------------------------------------------------------------\u001b[0m",
      "\u001b[0;31mModuleNotFoundError\u001b[0m                       Traceback (most recent call last)",
      "Cell \u001b[0;32mIn[3], line 10\u001b[0m\n\u001b[1;32m      8\u001b[0m \u001b[38;5;28;01mimport\u001b[39;00m \u001b[38;5;21;01mdask_jobqueue\u001b[39;00m\n\u001b[1;32m      9\u001b[0m \u001b[38;5;28;01mfrom\u001b[39;00m \u001b[38;5;21;01mastropy\u001b[39;00m\u001b[38;5;21;01m.\u001b[39;00m\u001b[38;5;21;01mconvolution\u001b[39;00m \u001b[38;5;28;01mimport\u001b[39;00m Box2DKernel, convolve\n\u001b[0;32m---> 10\u001b[0m \u001b[38;5;28;01mimport\u001b[39;00m \u001b[38;5;21;01mxskillscore\u001b[39;00m \u001b[38;5;28;01mas\u001b[39;00m \u001b[38;5;21;01mxs\u001b[39;00m\n",
      "\u001b[0;31mModuleNotFoundError\u001b[0m: No module named 'xskillscore'"
     ]
    }
   ],
   "source": [
    "import numpy as np\n",
    "import dask , dask.distributed\n",
    "import xarray as xr\n",
    "import matplotlib.pyplot as plt\n",
    "import cmocean.cm as cmo\n",
    "import warnings\n",
    "warnings.simplefilter('ignore')\n",
    "import dask_jobqueue\n",
    "from astropy.convolution import Box2DKernel, convolve\n",
    "import xskillscore as xs"
   ]
  },
  {
   "cell_type": "markdown",
   "id": "8237c69e-af26-40a0-a44b-da9553648185",
   "metadata": {},
   "source": [
    "# create monthly data"
   ]
  },
  {
   "cell_type": "markdown",
   "id": "a5878aeb-1768-4f92-9deb-54f0b11cab24",
   "metadata": {},
   "source": [
    "## year 0181"
   ]
  },
  {
   "cell_type": "code",
   "execution_count": 3,
   "id": "fb906893-9dc2-40c9-9642-1c87e7efae02",
   "metadata": {},
   "outputs": [],
   "source": [
    "###load data\n",
    "file_path='/gxfs_work/geomar/smomw577/mesoscale_eddies/MOM5/'\n",
    "ds_fluxes=xr.open_dataset(file_path+'01810101.ocean_minibling_surf_flux.nc', chunks={\"time\": 10})[['o2_stf', 'dic_stf']]*60*60*24*365\n",
    "ds_ssh_sst=xr.open_dataset(file_path+'01810101.ice_daily.nc', chunks={\"time\": 10})[['SSH', 'SST']]\n",
    "ds_heat=xr.open_dataset(file_path+'01810101.ocean_bdy_flux.nc', chunks={\"time\": 10})[['sens_heat', 'evap_heat']]\n",
    "\n",
    "###correct grid information in ice file\n",
    "ds_ssh_sst=ds_ssh_sst.assign_coords({'xt': (ds_fluxes.xt_ocean.data), \n",
    "                                       'yt': (ds_fluxes.yt_ocean.data)})\n",
    "ds_ssh_sst=ds_ssh_sst.rename({'xt': 'xt_ocean', 'yt': 'yt_ocean'})\n"
   ]
  },
  {
   "cell_type": "code",
   "execution_count": 4,
   "id": "dc7c8a11-3d32-45f0-a2b0-6cc606f1aa2b",
   "metadata": {},
   "outputs": [],
   "source": [
    "#take monthly means\n",
    "ds_fluxes_monthly=ds_fluxes.groupby('time.month').mean('time')\n",
    "ds_ssh_sst_monthly=ds_ssh_sst.groupby('time.month').mean('time')\n",
    "ds_heat_monthly=ds_heat.groupby('time.month').mean('time')"
   ]
  },
  {
   "cell_type": "code",
   "execution_count": 5,
   "id": "31a3cf2d-b220-4b1f-800c-c3f1968fd204",
   "metadata": {},
   "outputs": [],
   "source": [
    "###save in one file\n",
    "\n",
    "ds=xr.merge([ds_fluxes_monthly,ds_ssh_sst_monthly, ds_heat_monthly])\n",
    "save_path='/gxfs_work/geomar/smomw577/mesoscale_eddies/MOM5_concat/MOM5_daily2monthly.nc'\n",
    "ds.to_netcdf(save_path)"
   ]
  },
  {
   "cell_type": "markdown",
   "id": "607dce7b-6f1c-4cb8-bb08-4174f28ecc09",
   "metadata": {},
   "source": [
    "## all months"
   ]
  },
  {
   "cell_type": "code",
   "execution_count": null,
   "id": "ba65428b-0f37-400f-a735-5056d7d81226",
   "metadata": {},
   "outputs": [],
   "source": []
  },
  {
   "cell_type": "markdown",
   "id": "e8838a5e-0629-48b3-9a43-25e4c8008a97",
   "metadata": {},
   "source": [
    "# filter monthly data with boxfilter"
   ]
  },
  {
   "cell_type": "markdown",
   "id": "93dd9065-c97a-48c3-b279-a53ffd8a31ef",
   "metadata": {},
   "source": [
    "## year 0181"
   ]
  },
  {
   "cell_type": "code",
   "execution_count": 6,
   "id": "c88974c7-8d06-49bc-a990-5f4f8b151dd6",
   "metadata": {},
   "outputs": [],
   "source": [
    "def Boxfilter(data, size=30):\n",
    "    #uses 30 data points in each direction to average by default--> for 0.1° resolution this is a 3°x3° filter\n",
    "    kernel = Box2DKernel(size)\n",
    "    #wrap assumes periodic boundaries --> for snippets, frame needs to be cut off\n",
    "    conv=convolve(data, kernel, boundary='wrap')\n",
    "    conv=data.copy(data=conv)\n",
    "    return conv"
   ]
  },
  {
   "cell_type": "code",
   "execution_count": 7,
   "id": "2a98ed3a-2567-4614-8ef7-860f54ad695f",
   "metadata": {},
   "outputs": [],
   "source": [
    "def Data_3D(data, time='month'):\n",
    "    #filters for every time step, need to specify time --> 'month', 'time'\n",
    "    res=[]\n",
    "    for date in data[time]:\n",
    "        conv=Boxfilter(data.sel(data[time]=date), size=30)\n",
    "        res.append(conv)\n",
    "    da_res=xr.concat(res, dim=time)\n",
    "    return da_res"
   ]
  },
  {
   "cell_type": "code",
   "execution_count": null,
   "id": "6bf3f709-e47e-443a-8dc6-5c2578c8c370",
   "metadata": {},
   "outputs": [],
   "source": [
    "### apply filter\n",
    "sst=Data_3D(ds.SST)\n",
    "ssh=Data_3D(ds.SSH)\n",
    "o2=Data_3D(ds.o2_stf)\n",
    "dic=Data_3D(ds.dic_stf)\n",
    "sh=Data_3D(ds.sens_heat)\n",
    "lh=Data_3D(ds.evap_heat)\n",
    "\n",
    "ds_ano=xr.merge([sst, ssh, o2, dic, sh, lh])"
   ]
  },
  {
   "cell_type": "code",
   "execution_count": 4,
   "id": "8a62a53a-12ab-4806-af2a-71fdd80b8af4",
   "metadata": {},
   "outputs": [],
   "source": [
    "ds_ano.to_netcdf('/gxfs_work/geomar/smomw577/mesoscale_eddies/BOX_filtered/3x3_boxfilter_monthly.nc')"
   ]
  },
  {
   "cell_type": "markdown",
   "id": "904fcb86-2c88-4e5b-bb1b-22c624ab79fe",
   "metadata": {},
   "source": [
    "# save anomalies in an extra file"
   ]
  },
  {
   "cell_type": "code",
   "execution_count": 6,
   "id": "73c14f56-3901-40b2-9425-94dffd354af5",
   "metadata": {},
   "outputs": [],
   "source": [
    "ds=xr.open_dataset('/gxfs_work/geomar/smomw577/mesoscale_eddies/MOM5_daily2monthly/MOM5_daily2monthly.nc')\n",
    "ds_ano=xr.open_dataset('/gxfs_work/geomar/smomw577/mesoscale_eddies/BOX_filtered/3x3_boxfilter_monthly.nc')"
   ]
  },
  {
   "cell_type": "code",
   "execution_count": 7,
   "id": "6991c4de-1f8f-4e4c-86be-9523705fb0a8",
   "metadata": {},
   "outputs": [],
   "source": [
    "dsa=ds-ds_ano"
   ]
  },
  {
   "cell_type": "code",
   "execution_count": 9,
   "id": "17a628e9-200f-4fa1-bd65-fb92fcec6459",
   "metadata": {},
   "outputs": [],
   "source": [
    "dsa.to_netcdf('/gxfs_work/geomar/smomw577/mesoscale_eddies/BOX_filtered/3x3_boxfilter_anomaly_monthly.nc')"
   ]
  },
  {
   "cell_type": "markdown",
   "id": "942aa717-86c0-4588-8ebb-741998488549",
   "metadata": {},
   "source": [
    "# correlations"
   ]
  },
  {
   "cell_type": "code",
   "execution_count": 2,
   "id": "7f4361b9-a931-4b9e-b5b7-56a3ee7db23e",
   "metadata": {},
   "outputs": [],
   "source": [
    "pathf='/gxfs_work/geomar/smomw577/mesoscale_eddies/BOX_filtered/'\n",
    "dsa=xr.open_dataset(pathf+'3x3_boxfilter_anomaly_monthly.nc')"
   ]
  },
  {
   "cell_type": "code",
   "execution_count": 3,
   "id": "a0bd6215-1c34-448c-ac05-41f6e03dbc04",
   "metadata": {},
   "outputs": [],
   "source": [
    "sh=dsa.sens_heat\n",
    "lh=dsa.evap_heat\n",
    "o2=dsa.o2_stf\n",
    "dic=dsa.dic_stf\n",
    "ssh=dsa.SSH\n",
    "sst=dsa.SST"
   ]
  },
  {
   "cell_type": "code",
   "execution_count": 4,
   "id": "21afcf47-bfe7-403c-8161-cfa1c5dc1311",
   "metadata": {},
   "outputs": [],
   "source": [
    "ssh_sst=xr.corr(ssh, sst, dim='month')\n",
    "ssh_sst.name='corr_sst_ssh'\n",
    "sst_sh=xr.corr(sst, sh, dim='month')\n",
    "sst_sh.name='corr_sst_sh'\n",
    "sst_lh=xr.corr(sst, lh, dim='month')\n",
    "sst_lh.name='corr_sst_lh'\n",
    "sst_o2=xr.corr(sst, o2, dim='month')\n",
    "sst_o2.name='corr_sst_o2'\n",
    "sst_dic=xr.corr(sst, dic, dim='month')\n",
    "sst_dic.name='corr_sst_dic'"
   ]
  },
  {
   "cell_type": "code",
   "execution_count": 5,
   "id": "760fde0c-1e49-4b8f-b90d-967119206a39",
   "metadata": {},
   "outputs": [],
   "source": [
    "correlations=xr.merge([ssh_sst,sst_o2, sst_dic, sst_sh, sst_lh])\n",
    "correlations.to_netcdf('/gxfs_work/geomar/smomw577/mesoscale_eddies/BOX_filtered/3x3_boxfilter_sst_correlations_monthly.nc')"
   ]
  },
  {
   "cell_type": "code",
   "execution_count": null,
   "id": "c351e07b-6eb9-4f92-9a25-46f4fcefe8b0",
   "metadata": {},
   "outputs": [],
   "source": [
    "#### pvalue"
   ]
  },
  {
   "cell_type": "code",
   "execution_count": 5,
   "id": "8582fc6d-c274-4d4a-9f25-2634d9ec9d9f",
   "metadata": {
    "scrolled": true
   },
   "outputs": [
    {
     "ename": "NameError",
     "evalue": "name 'xskillscore' is not defined",
     "output_type": "error",
     "traceback": [
      "\u001b[0;31m---------------------------------------------------------------------------\u001b[0m",
      "\u001b[0;31mNameError\u001b[0m                                 Traceback (most recent call last)",
      "Cell \u001b[0;32mIn[5], line 1\u001b[0m\n\u001b[0;32m----> 1\u001b[0m ssh_sst_p\u001b[38;5;241m=\u001b[39m\u001b[43mxskillscore\u001b[49m\u001b[38;5;241m.\u001b[39mpearson_r_eff_p_value(ssh, sst, dim\u001b[38;5;241m=\u001b[39m\u001b[38;5;28;01mNone\u001b[39;00m, skipna\u001b[38;5;241m=\u001b[39m\u001b[38;5;28;01mFalse\u001b[39;00m, keep_attrs\u001b[38;5;241m=\u001b[39m\u001b[38;5;28;01mFalse\u001b[39;00m)\n",
      "\u001b[0;31mNameError\u001b[0m: name 'xskillscore' is not defined"
     ]
    }
   ],
   "source": [
    "ssh_sst_p=xs.pearson_r_eff_p_value(ssh, sst, dim=None, skipna=False, keep_attrs=False)"
   ]
  },
  {
   "cell_type": "code",
   "execution_count": null,
   "id": "877890c1-827e-478f-98a8-a3209dd401e1",
   "metadata": {},
   "outputs": [],
   "source": []
  }
 ],
 "metadata": {
  "kernelspec": {
   "display_name": "Python [conda env:py3_std]",
   "language": "python",
   "name": "conda-env-py3_std-py"
  },
  "language_info": {
   "codemirror_mode": {
    "name": "ipython",
    "version": 3
   },
   "file_extension": ".py",
   "mimetype": "text/x-python",
   "name": "python",
   "nbconvert_exporter": "python",
   "pygments_lexer": "ipython3",
   "version": "3.9.18"
  }
 },
 "nbformat": 4,
 "nbformat_minor": 5
}
