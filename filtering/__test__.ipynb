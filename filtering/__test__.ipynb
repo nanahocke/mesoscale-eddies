{
 "cells": [
  {
   "cell_type": "code",
   "execution_count": 1,
   "id": "70fd3aa6-b4db-495a-afca-8da496750472",
   "metadata": {},
   "outputs": [],
   "source": [
    "import numpy as np\n",
    "import dask , dask.distributed\n",
    "import xarray as xr\n",
    "import matplotlib.pyplot as plt\n",
    "import cartopy.crs as ccrs\n",
    "import cartopy\n",
    "import cmocean.cm as cmo\n",
    "import warnings\n",
    "warnings.simplefilter('ignore')\n",
    "import dask_jobqueue\n",
    "from astropy.convolution import Box2DKernel, convolve\n",
    "from cartopy.mpl.ticker import (LongitudeFormatter, LatitudeFormatter,\n",
    "                                LatitudeLocator, LongitudeLocator)\n",
    "import matplotlib.colors as colors\n",
    "import pandas as pd\n",
    "from fix_grid import fix_grid \n",
    "import matplotlib.gridspec as gridspec\n",
    "from mpl_toolkits.axes_grid1 import make_axes_locatable"
   ]
  },
  {
   "cell_type": "code",
   "execution_count": 5,
   "id": "8bb21e4e-0ac6-4dcc-ae1c-7ef223846fdb",
   "metadata": {},
   "outputs": [],
   "source": [
    "pathf='/gxfs_work/geomar/smomw577/mesoscale_eddies/BOX_filtered/0181-0190/'\n",
    "dsa=xr.open_dataset(pathf+'3x3box_median_anomaly_monthly_0181-0190_all_new.nc')"
   ]
  },
  {
   "cell_type": "code",
   "execution_count": 41,
   "id": "a61667bf-af34-4a1b-a25a-79ed9db9a145",
   "metadata": {},
   "outputs": [],
   "source": [
    "def corr_test(dsa):\n",
    "    corr=[]\n",
    "    for var in list(dsa.keys()):\n",
    "        if 'SSH' not in var and '1PctTo2X' not in var:\n",
    "            corrssh=xr.corr(dsa.SSH, dsa[var], dim='time')\n",
    "            corrssh.name='corr_ssh_'+var\n",
    "            corr.append(corrssh)\n",
    "        if 'SST' not in var and '1PctTo2X' not in var:\n",
    "            corrsst=xr.corr(dsa.SST, dsa[var], dim='time')\n",
    "            corrsst.name='corr_sst_'+var\n",
    "            corr.append(corrsst)\n",
    "        if 'SSH' not in var and '1PctTo2X' in var:\n",
    "            print(var)\n",
    "            corrsshcc=xr.corr(dsa.SSH_1PctTo2X, dsa[var], dim='time')\n",
    "            corrsshcc.name='corr_ssh_'+var+'_1PctTo2X'\n",
    "            corr.append(corrsshcc)\n",
    "        if 'SST' not in var and '1PctTo2X' in var:\n",
    "            corrsstcc=xr.corr(dsa.SST_1PctTo2X, dsa[var], dim='time')\n",
    "            corrsstcc.name='corr_sst_'+var+'_1PctTo2X'\n",
    "            corr.append(corrsstcc)\n",
    "    correlations=xr.merge(corr)\n",
    "    return correlations"
   ]
  },
  {
   "cell_type": "code",
   "execution_count": 42,
   "id": "c2e05daf-2d20-44cb-8ac9-1f37d90a5854",
   "metadata": {},
   "outputs": [
    {
     "name": "stdout",
     "output_type": "stream",
     "text": [
      "SST_1PctTo2X\n",
      "dic_stf_1PctTo2X\n",
      "o2_stf_1PctTo2X\n",
      "sens_heat_1PctTo2X\n",
      "evap_heat_1PctTo2X\n",
      "mld_1PctTo2X\n",
      "jp_all_1PctTo2X\n"
     ]
    }
   ],
   "source": [
    "corr_test(dsa)"
   ]
  },
  {
   "cell_type": "code",
   "execution_count": 32,
   "id": "382c2eb3-bafd-40d2-adae-cfa00473f9d4",
   "metadata": {},
   "outputs": [
    {
     "data": {
      "text/plain": [
       "<bound method Mapping.keys of <xarray.Dataset>\n",
       "Dimensions:             (time: 120, yt_ocean: 2700, xt_ocean: 3600)\n",
       "Coordinates:\n",
       "  * time                (time) object 0181-01-16 12:00:00 ... 0190-12-16 12:0...\n",
       "    geolon_t            (yt_ocean, xt_ocean) float32 ...\n",
       "    geolat_t            (yt_ocean, xt_ocean) float32 ...\n",
       "  * xt_ocean            (xt_ocean) float64 -279.9 -279.8 -279.7 ... 79.85 79.95\n",
       "  * yt_ocean            (yt_ocean) float64 -81.11 -81.07 -81.02 ... 89.94 89.98\n",
       "    st_ocean            float64 ...\n",
       "Data variables: (12/16)\n",
       "    o2_stf              (time, yt_ocean, xt_ocean) float32 ...\n",
       "    dic_stf             (time, yt_ocean, xt_ocean) float32 ...\n",
       "    SSH                 (time, yt_ocean, xt_ocean) float32 ...\n",
       "    SST                 (time, yt_ocean, xt_ocean) float32 ...\n",
       "    sens_heat           (time, yt_ocean, xt_ocean) float32 ...\n",
       "    evap_heat           (time, yt_ocean, xt_ocean) float32 ...\n",
       "    ...                  ...\n",
       "    dic_stf_1PctTo2X    (time, yt_ocean, xt_ocean) float32 ...\n",
       "    o2_stf_1PctTo2X     (time, yt_ocean, xt_ocean) float32 ...\n",
       "    sens_heat_1PctTo2X  (time, yt_ocean, xt_ocean) float32 ...\n",
       "    evap_heat_1PctTo2X  (time, yt_ocean, xt_ocean) float32 ...\n",
       "    mld_1PctTo2X        (time, yt_ocean, xt_ocean) float32 ...\n",
       "    jp_all_1PctTo2X     (time, yt_ocean, xt_ocean) float64 ...\n",
       "Attributes:\n",
       "    CDI:          Climate Data Interface version 2.4.2 (https://mpimet.mpg.de...\n",
       "    Conventions:  CF-1.6\n",
       "    history:      Mon May 12 11:41:38 2025: cdo merge 3x3box_median_anomaly_m...\n",
       "    CDO:          Climate Data Operators version 2.4.2 (https://mpimet.mpg.de...>"
      ]
     },
     "execution_count": 32,
     "metadata": {},
     "output_type": "execute_result"
    }
   ],
   "source": [
    "ds.keys"
   ]
  },
  {
   "cell_type": "code",
   "execution_count": null,
   "id": "188c3fcb-55c3-4171-99a2-bb06a824ffd7",
   "metadata": {},
   "outputs": [],
   "source": []
  }
 ],
 "metadata": {
  "kernelspec": {
   "display_name": "Python [conda env:py3_std]",
   "language": "python",
   "name": "conda-env-py3_std-py"
  },
  "language_info": {
   "codemirror_mode": {
    "name": "ipython",
    "version": 3
   },
   "file_extension": ".py",
   "mimetype": "text/x-python",
   "name": "python",
   "nbconvert_exporter": "python",
   "pygments_lexer": "ipython3",
   "version": "3.9.18"
  }
 },
 "nbformat": 4,
 "nbformat_minor": 5
}
