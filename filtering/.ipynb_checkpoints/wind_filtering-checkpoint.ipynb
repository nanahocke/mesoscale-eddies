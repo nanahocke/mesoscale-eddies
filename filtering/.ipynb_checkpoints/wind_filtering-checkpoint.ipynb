{
 "cells": [
  {
   "cell_type": "code",
   "execution_count": 7,
   "id": "4b9c2992-0cfb-4ce5-aca0-9e13614e50f6",
   "metadata": {},
   "outputs": [],
   "source": [
    "import numpy as np\n",
    "import dask , dask.distributed\n",
    "import xarray as xr\n",
    "import matplotlib.pyplot as plt\n",
    "import cmocean.cm as cmo\n",
    "import warnings\n",
    "warnings.simplefilter('ignore')\n",
    "import dask_jobqueue\n",
    "from astropy.convolution import Box2DKernel, convolve\n",
    "#import xskillscore as xs\n",
    "from filter import filtering, filtering_median\n",
    "from ice import create_icemask, ice_filter\n",
    "from calculations import concat_data, anomalies, corr, corr_all, seas_corr, concat_jp\n",
    "from scipy.ndimage import generic_filter"
   ]
  },
  {
   "cell_type": "code",
   "execution_count": null,
   "id": "5c138bbd-a3c3-4b86-b945-3d781bef1672",
   "metadata": {},
   "outputs": [],
   "source": [
    "### First, save all original data without ice, don't run again"
   ]
  },
  {
   "cell_type": "markdown",
   "id": "8c2a23f0-e482-488b-aa21-f9a05824131e",
   "metadata": {
    "jp-MarkdownHeadingCollapsed": true
   },
   "source": [
    "# Remove ice"
   ]
  },
  {
   "cell_type": "code",
   "execution_count": 1,
   "id": "e248bf12-dd4d-4bda-ad2d-2a1b84907347",
   "metadata": {},
   "outputs": [
    {
     "ename": "NameError",
     "evalue": "name 'xr' is not defined",
     "output_type": "error",
     "traceback": [
      "\u001b[0;31m---------------------------------------------------------------------------\u001b[0m",
      "\u001b[0;31mNameError\u001b[0m                                 Traceback (most recent call last)",
      "Cell \u001b[0;32mIn[1], line 2\u001b[0m\n\u001b[1;32m      1\u001b[0m \u001b[38;5;66;03m#icemask_ctrl=xr.open_dataset('/gxfs_work/geomar/smomw577/mesoscale_eddies/BOX_filtered/0181-0190/icemask_control.nc')\u001b[39;00m\n\u001b[0;32m----> 2\u001b[0m icemask_cc\u001b[38;5;241m=\u001b[39m\u001b[43mxr\u001b[49m\u001b[38;5;241m.\u001b[39mopen_dataset(\u001b[38;5;124m'\u001b[39m\u001b[38;5;124m/gxfs_work/geomar/smomw577/mesoscale_eddies/BOX_filtered/0181-0190/icemask_1PctTo2X.nc\u001b[39m\u001b[38;5;124m'\u001b[39m)\n",
      "\u001b[0;31mNameError\u001b[0m: name 'xr' is not defined"
     ]
    }
   ],
   "source": [
    "#icemask_ctrl=xr.open_dataset('/gxfs_work/geomar/smomw577/mesoscale_eddies/BOX_filtered/0181-0190/icemask_control.nc')\n",
    "icemask_cc=xr.open_dataset('/gxfs_work/geomar/smomw577/mesoscale_eddies/BOX_filtered/0181-0190/icemask_1PctTo2X.nc')"
   ]
  },
  {
   "cell_type": "code",
   "execution_count": null,
   "id": "8c4d29d1-7fc2-44b3-89ae-b9dab8eb1970",
   "metadata": {},
   "outputs": [],
   "source": [
    "#ds_ctrl=xr.open_dataset('/gxfs_work/geomar/smomw577/mesoscale_eddies/MOM5_concat/0181-0190/windstress_ctrl.nc')\n",
    "#ds_cc=xr.open_dataset('/gxfs_work/geomar/smomw577/mesoscale_eddies/MOM5_concat/0181-0190/MOM5_1PctTo2X_monthly_0181-0190_wind.nc')"
   ]
  },
  {
   "cell_type": "code",
   "execution_count": null,
   "id": "49ca8d41-8264-4f2b-a6d8-7dee9f01fcd6",
   "metadata": {},
   "outputs": [],
   "source": [
    "#ds_ctrl=ds_ctrl.rename({'xu_ocean':'xt_ocean', 'yu_ocean':'yt_ocean'})[['tau_x', 'tau_y']]\n",
    "#ds_cc=ds_cc.rename({'xu_ocean':'xt_ocean', 'yu_ocean':'yt_ocean'})[['wind_power_u', 'wind_power_v']]"
   ]
  },
  {
   "cell_type": "code",
   "execution_count": null,
   "id": "d437d66f-997a-40d9-acf7-c2d49e456e94",
   "metadata": {},
   "outputs": [],
   "source": [
    "#ds_ctrl['wind_stress']=np.sqrt(ds_ctrl['tau_x']**2+ds_ctrl['tau_y']**2)\n",
    "#ds_cc['wind_stress']=np.sqrt(ds_cc['tau_x']**2+ds_cc['tau_y']**2)"
   ]
  },
  {
   "cell_type": "code",
   "execution_count": null,
   "id": "c42a602b-dc5b-4573-a829-ffa8b59fb523",
   "metadata": {},
   "outputs": [],
   "source": [
    "#ds_ctrl=ds_ctrl.interp_like(icemask_ctrl)\n",
    "#ds_cc=ds_cc.interp_like(icemask_cc)"
   ]
  },
  {
   "cell_type": "code",
   "execution_count": null,
   "id": "32108e60-4f46-4658-afaa-56e3c1d7724d",
   "metadata": {},
   "outputs": [],
   "source": [
    "#ice_filter(ds_ctrl, icemask_ctrl.EXT,'/gxfs_work/geomar/smomw577/mesoscale_eddies/MOM5_concat/0181-0190/MOM5_control_monthly_0181-0190_wind_noice.nc' )\n",
    "ice_filter(ds_cc, icemask_cc.EXT,'/gxfs_work/geomar/smomw577/mesoscale_eddies/MOM5_concat/0181-0190/MOM5_1PctTo2X_monthly_0181-0190_wind_noice.nc' )"
   ]
  },
  {
   "cell_type": "markdown",
   "id": "ec2df83c-391e-4675-a44e-714f3894bcef",
   "metadata": {},
   "source": [
    "# filtering"
   ]
  },
  {
   "cell_type": "code",
   "execution_count": null,
   "id": "59ab91fb-237b-4756-a1e0-a0e550203f2b",
   "metadata": {},
   "outputs": [],
   "source": [
    "#ds=xr.open_dataset('/gxfs_work/geomar/smomw577/mesoscale_eddies/MOM5_concat/0181-0190/MOM5_control_monthly_0181-0190_wind_noice.nc')\n",
    "dscc=xr.open_dataset('/gxfs_work/geomar/smomw577/mesoscale_eddies/MOM5_concat/0181-0190/MOM5_1PctTo2X_monthly_0181-0190_wind_noice.nc')\n",
    "#save='/gxfs_work/geomar/smomw577/mesoscale_eddies/BOX_filtered/0181-0190/3x3box_median_monthly_0181-0190_noice_wind.nc'\n",
    "savecc='/gxfs_work/geomar/smomw577/mesoscale_eddies/BOX_filtered/0181-0190/3x3box_median_monthly_1PctTo2X_0181-0190_noice_wind.nc'\n",
    "\n",
    "#ds_median=filtering_median(ds)\n",
    "#ds_median.to_netcdf(save)\n",
    "ds_median_cc=filtering_median(dscc)\n",
    "ds_median_cc.to_netcdf(savecc)"
   ]
  },
  {
   "cell_type": "markdown",
   "id": "e2618068-b2e4-482f-ba6c-f67fe9fb8368",
   "metadata": {},
   "source": [
    "# calculate anomalies"
   ]
  },
  {
   "cell_type": "code",
   "execution_count": 10,
   "id": "274979eb-b195-4d2e-a7fa-b1b60289ee55",
   "metadata": {},
   "outputs": [],
   "source": [
    "#save_ctrl='/gxfs_work/geomar/smomw577/mesoscale_eddies/BOX_filtered/0181-0190/3x3box_median_anomaly_monthly_0181-0190_wind.nc'\n",
    "save_cc='/gxfs_work/geomar/smomw577/mesoscale_eddies/BOX_filtered/0181-0190/3x3box_median_anomaly_monthly_1PctTo2X_0181-0190_wind.nc'"
   ]
  },
  {
   "cell_type": "code",
   "execution_count": 11,
   "id": "fae12709-3c2e-4fb8-b493-91667c5e548d",
   "metadata": {},
   "outputs": [],
   "source": [
    "ds=xr.open_dataset('/gxfs_work/geomar/smomw577/mesoscale_eddies/MOM5_concat/0181-0190/MOM5_1PctTo2X_monthly_0181-0190_wind_noice.nc')"
   ]
  },
  {
   "cell_type": "code",
   "execution_count": 12,
   "id": "ceb41a00-0b09-4f56-9747-89e22e38e24b",
   "metadata": {},
   "outputs": [],
   "source": [
    "ds_median=xr.open_dataset('/gxfs_work/geomar/smomw577/mesoscale_eddies/BOX_filtered/0181-0190/3x3box_median_monthly_1PctTo2X_0181-0190_noice_wind.nc')"
   ]
  },
  {
   "cell_type": "code",
   "execution_count": null,
   "id": "23c03b21-8277-4841-bdc5-5a0e1d6b8196",
   "metadata": {},
   "outputs": [],
   "source": [
    "ano=ds-ds_median"
   ]
  },
  {
   "cell_type": "code",
   "execution_count": 17,
   "id": "ea8327bc-098a-4867-84b5-1847b4ea6260",
   "metadata": {},
   "outputs": [],
   "source": [
    "ano.to_netcdf(save_cc)"
   ]
  },
  {
   "cell_type": "code",
   "execution_count": null,
   "id": "ec983215-c321-410d-993a-34302136e049",
   "metadata": {},
   "outputs": [],
   "source": []
  }
 ],
 "metadata": {
  "kernelspec": {
   "display_name": "Python [conda env:py3_std]",
   "language": "python",
   "name": "conda-env-py3_std-py"
  },
  "language_info": {
   "codemirror_mode": {
    "name": "ipython",
    "version": 3
   },
   "file_extension": ".py",
   "mimetype": "text/x-python",
   "name": "python",
   "nbconvert_exporter": "python",
   "pygments_lexer": "ipython3",
   "version": "3.9.18"
  }
 },
 "nbformat": 4,
 "nbformat_minor": 5
}
