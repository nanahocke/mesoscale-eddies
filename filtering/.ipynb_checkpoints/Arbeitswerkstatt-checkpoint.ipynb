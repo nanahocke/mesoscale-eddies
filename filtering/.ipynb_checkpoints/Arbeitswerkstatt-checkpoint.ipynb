{
 "cells": [
  {
   "cell_type": "code",
   "execution_count": 1,
   "id": "571806af-1e51-4040-8e10-07ce87b91434",
   "metadata": {},
   "outputs": [],
   "source": [
    "import numpy as np\n",
    "import dask , dask.distributed\n",
    "import xarray as xr\n",
    "import matplotlib.pyplot as plt\n",
    "import cmocean.cm as cmo\n",
    "import warnings\n",
    "warnings.simplefilter('ignore')\n",
    "import dask_jobqueue\n",
    "from astropy.convolution import Box2DKernel, convolve\n",
    "#import xskillscore as xs\n",
    "from filter import filtering\n",
    "from ice import create_icemask, ice_filter\n",
    "from calculations import concat_data, anomalies, corr, corr_all, seas_corr, concat_jp"
   ]
  },
  {
   "cell_type": "code",
   "execution_count": null,
   "id": "6fa64d9b-524f-410d-b08d-aa38633bf6fa",
   "metadata": {},
   "outputs": [],
   "source": []
  }
 ],
 "metadata": {
  "kernelspec": {
   "display_name": "Python [conda env:py3_std]",
   "language": "python",
   "name": "conda-env-py3_std-py"
  },
  "language_info": {
   "codemirror_mode": {
    "name": "ipython",
    "version": 3
   },
   "file_extension": ".py",
   "mimetype": "text/x-python",
   "name": "python",
   "nbconvert_exporter": "python",
   "pygments_lexer": "ipython3",
   "version": "3.9.18"
  }
 },
 "nbformat": 4,
 "nbformat_minor": 5
}
