{
 "cells": [
  {
   "cell_type": "code",
   "execution_count": 1,
   "id": "a98c9973-9b4e-49e0-8867-61b5968de0fe",
   "metadata": {},
   "outputs": [],
   "source": [
    "import numpy as np\n",
    "import dask , dask.distributed\n",
    "import xarray as xr\n",
    "import matplotlib.pyplot as plt\n",
    "import cmocean.cm as cmo\n",
    "import warnings\n",
    "warnings.simplefilter('ignore')\n",
    "import dask_jobqueue\n",
    "from astropy.convolution import Box2DKernel, convolve\n",
    "#import xskillscore as xs\n",
    "from filter import filtering\n",
    "from ice import create_icemask, ice_filter\n",
    "from calculations import concat_data, anomalies, corr, corr_all, seas_corr, concat_jp"
   ]
  },
  {
   "cell_type": "markdown",
   "id": "e2dcd9f0-2060-4f7b-ac63-aaf8fb6ea648",
   "metadata": {},
   "source": [
    "## all months 181-190"
   ]
  },
  {
   "cell_type": "code",
   "execution_count": 2,
   "id": "8a965880-5ec0-46eb-9258-13aed68e48c0",
   "metadata": {},
   "outputs": [],
   "source": [
    "###load data\n",
    "file_path='/gxfs_work/geomar/smomw577/mesoscale_eddies/MOM5/control/0'\n",
    "file_cc='/gxfs_work/geomar/smomw577/mesoscale_eddies/MOM5/1PctTo2X/0'"
   ]
  },
  {
   "cell_type": "code",
   "execution_count": 3,
   "id": "7e84224c-3eea-497f-805a-1f0f2125b16b",
   "metadata": {},
   "outputs": [],
   "source": [
    "ds_ctrl=concat_data(file_path)"
   ]
  },
  {
   "cell_type": "code",
   "execution_count": 4,
   "id": "3c272037-3c74-437a-91a6-3071fbb525e1",
   "metadata": {},
   "outputs": [],
   "source": [
    "ds_cc=concat_data(file_cc)"
   ]
  },
  {
   "cell_type": "code",
   "execution_count": null,
   "id": "f2396f65-0648-4f47-8039-086bc0f46411",
   "metadata": {},
   "outputs": [],
   "source": [
    "save_path='/gxfs_work/geomar/smomw577/mesoscale_eddies/MOM5_concat/0181-0190/MOM5_control_monthly_0181-0190.nc'\n",
    "save_pathcc='/gxfs_work/geomar/smomw577/mesoscale_eddies/MOM5_concat/0181-0190/MOM5_1PctTo2X_monthly_0181-0190.nc'\n",
    "ds_ctrl.to_netcdf(save_path)\n",
    "ds_cc.to_netcdf(save_pathcc)"
   ]
  },
  {
   "cell_type": "code",
   "execution_count": 5,
   "id": "a51f819a-7feb-4895-b03c-2aae13e479b6",
   "metadata": {},
   "outputs": [],
   "source": [
    "##icemasks and save, don't run again, find all regions without any ==0 ice\n",
    "icemask_ctrl=create_icemask(ds_ctrl)\n",
    "icemask_cc=create_icemask(ds_cc)\n",
    "icemask_ctrl.to_netcdf('/gxfs_work/geomar/smomw577/mesoscale_eddies/BOX_filtered/0181-0190/icemask_control.nc')\n",
    "icemask_cc.to_netcdf('/gxfs_work/geomar/smomw577/mesoscale_eddies/BOX_filtered/0181-0190/icemask_1PctTo2X.nc')"
   ]
  },
  {
   "cell_type": "code",
   "execution_count": null,
   "id": "9962af47-9e8e-4557-9014-26db56831467",
   "metadata": {},
   "outputs": [],
   "source": [
    "ice_filter(ds_ctrl, icemask_ctrl,'/gxfs_work/geomar/smomw577/mesoscale_eddies/MOM5_concat/0181-0190/MOM5_control_monthly_noice_0181-0190.nc' )\n",
    "ice_filter(ds_cc, icemask_cc,'/gxfs_work/geomar/smomw577/mesoscale_eddies/MOM5_concat/0181-0190/MOM5_1PctTo2X_monthly_noice_0181-0190.nc' )"
   ]
  },
  {
   "cell_type": "markdown",
   "id": "b8186d1a-b70e-48d6-8e06-db6ff33103d1",
   "metadata": {},
   "source": [
    "## 181-190"
   ]
  },
  {
   "cell_type": "code",
   "execution_count": 2,
   "id": "6aa0ee75-b94a-4881-bf21-d5d93360638f",
   "metadata": {},
   "outputs": [],
   "source": [
    "ds=xr.open_dataset('/gxfs_work/geomar/smomw577/mesoscale_eddies/MOM5_concat/0181-0190/MOM5_control_monthly_0181-0190.nc')\n",
    "dscc=xr.open_dataset('/gxfs_work/geomar/smomw577/mesoscale_eddies/MOM5_concat/0181-0190/MOM5_1PctTo2X_monthly_0181-0190.nc')\n",
    "\n",
    "save='/gxfs_work/geomar/smomw577/mesoscale_eddies/BOX_filtered/0181-0190/3x3box_monthly_0181-0190.nc'\n",
    "savecc='/gxfs_work/geomar/smomw577/mesoscale_eddies/BOX_filtered/0181-0190/3x3box_monthly_1PctTo2X_0181-0190.nc'"
   ]
  },
  {
   "cell_type": "code",
   "execution_count": 13,
   "id": "53b60da4-b25f-47d9-980b-16cef49a9dc1",
   "metadata": {},
   "outputs": [],
   "source": [
    "dscc=dscc.drop('time_bnds')\n",
    "ds=ds.drop('time_bnds')"
   ]
  },
  {
   "cell_type": "code",
   "execution_count": null,
   "id": "64c476e6-b599-4216-b56d-04930eef97be",
   "metadata": {},
   "outputs": [],
   "source": [
    "ds_ano_cc=filtering(dscc)\n",
    "ds_ano_cc.to_netcdf(savecc)\n",
    "\n",
    "ds_ano=filtering(ds)\n",
    "ds_ano.to_netcdf(save)"
   ]
  },
  {
   "cell_type": "markdown",
   "id": "0bacd7e4-0f10-4029-8869-0b653832f432",
   "metadata": {},
   "source": [
    "### jp_uptake (Hier weitermachen)"
   ]
  },
  {
   "cell_type": "code",
   "execution_count": 4,
   "id": "760a0520-bb9c-4978-8671-eb5b06ec0715",
   "metadata": {},
   "outputs": [],
   "source": [
    "file_path='/gxfs_work/geomar/smomw577/mesoscale_eddies/MOM5/control/0'\n",
    "file_cc='/gxfs_work/geomar/smomw577/mesoscale_eddies/MOM5/1PctTo2X/0'\n",
    "ds_jp=concat_jp(file_path)\n",
    "ds_jp_cc=concat_jp(file_cc)"
   ]
  },
  {
   "cell_type": "code",
   "execution_count": null,
   "id": "7175e392-94dd-42b8-ba67-162b52df825b",
   "metadata": {},
   "outputs": [],
   "source": [
    "ds_jp_filter=filtering(ds_jp)\n"
   ]
  },
  {
   "cell_type": "code",
   "execution_count": null,
   "id": "77ece63e-d999-4708-bdeb-6a3737f80068",
   "metadata": {},
   "outputs": [],
   "source": [
    "ds_jp_filter_cc=filtering(ds_jp_cc)"
   ]
  },
  {
   "cell_type": "code",
   "execution_count": null,
   "id": "6b41eab8-7d65-4aa6-8ff1-65a3201ba1b3",
   "metadata": {},
   "outputs": [],
   "source": [
    "save='/gxfs_work/geomar/smomw577/mesoscale_eddies/BOX_filtered/0181-0190/3x3box_monthly_0181-0190_jp.nc'\n",
    "savecc='/gxfs_work/geomar/smomw577/mesoscale_eddies/BOX_filtered/0181-0190/3x3box_monthly_1PctTo2X_0181-0190_jp.nc'\n",
    "\n",
    "ds_jp_filter.to_netcdf(save)\n",
    "ds_jp_filter_cc.to_netcdf(savecc)\n"
   ]
  },
  {
   "cell_type": "markdown",
   "id": "904fcb86-2c88-4e5b-bb1b-22c624ab79fe",
   "metadata": {},
   "source": [
    "# save anomalies in an extra file"
   ]
  },
  {
   "cell_type": "code",
   "execution_count": null,
   "id": "b9284604-5ea6-4675-9fe0-6d32b0d2c652",
   "metadata": {},
   "outputs": [],
   "source": [
    "ds_ctrl= '/gxfs_work/geomar/smomw577/mesoscale_eddies/MOM5_concat/0181-0190/MOM5_control_monthly_0181-0190.nc'\n",
    "ds_filtered_ctrl= '/gxfs_work/geomar/smomw577/mesoscale_eddies/BOX_filtered/0181-0190/3x3box_monthly_0181-0190.nc'\n",
    "\n",
    "ds_cc='/gxfs_work/geomar/smomw577/mesoscale_eddies/MOM5_concat/0181-0190/MOM5_1PctTo2X_monthly_0181-0190.nc'\n",
    "ds_filtered_cc='/gxfs_work/geomar/smomw577/mesoscale_eddies/BOX_filtered/0181-0190/3x3box_monthly_1PctTo2X_0181-0190.nc'\n",
    "\n",
    "save_ctrl='/gxfs_work/geomar/smomw577/mesoscale_eddies/BOX_filtered/0181-0190/3x3box_anomaly_monthly_0181-0190.nc'\n",
    "save_cc='/gxfs_work/geomar/smomw577/mesoscale_eddies/BOX_filtered/0181-0190/3x3box_anomaly_monthly_1PctTo2X_0181-0190.nc'\n",
    "\n",
    "anomalies(ds_ctrl, ds_filtered_ctrl)\n",
    "anomalies(ds_cc, ds_filtered_cc)"
   ]
  },
  {
   "cell_type": "code",
   "execution_count": null,
   "id": "9640ae06-6740-48a7-908b-f28b291fe287",
   "metadata": {},
   "outputs": [],
   "source": [
    "dsa_ctrl_path='/gxfs_work/geomar/smomw577/mesoscale_eddies/BOX_filtered/0181-0190/3x3box_anomaly_monthly_0181-0190.nc'\n",
    "dsa_cc_path='/gxfs_work/geomar/smomw577/mesoscale_eddies/BOX_filtered/0181-0190/3x3box_anomaly_monthly_1PctTo2X_0181-0190.nc'\n",
    "\n",
    "ice_cc='/gxfs_work/geomar/smomw577/mesoscale_eddies/BOX_filtered/0181-0190/icemask_1PctTo2X.nc'\n",
    "ice_ctrl='/gxfs_work/geomar/smomw577/mesoscale_eddies/BOX_filtered/0181-0190/icemask_control.nc'\n",
    "\n",
    "save_ctrl_path='/gxfs_work/geomar/smomw577/mesoscale_eddies/BOX_filtered/0181-0190/3x3box_anomaly_monthly_0181-0190_noice.nc'\n",
    "save_cc_path='/gxfs_work/geomar/smomw577/mesoscale_eddies/BOX_filtered/0181-0190/3x3box_anomaly_monthly_1PctTo2X_0181-0190_noice.nc'\n",
    "\n",
    "\n",
    "ice_filter(dsa_ctrl_path, ice_ctrl, save_ctrl_path)\n",
    "ice_filter(dsa_cc_path, ice_cc, save_cc_path)"
   ]
  },
  {
   "cell_type": "markdown",
   "id": "942aa717-86c0-4588-8ebb-741998488549",
   "metadata": {},
   "source": [
    "# correlations"
   ]
  },
  {
   "cell_type": "code",
   "execution_count": 5,
   "id": "2e1a81b4-675f-4889-9978-430d0039751e",
   "metadata": {},
   "outputs": [],
   "source": [
    "pathf='/gxfs_work/geomar/smomw577/mesoscale_eddies/BOX_filtered/0181-0190/'\n",
    "\n",
    "ctrl=pathf+'3x3box_anomaly_monthly_0181-0190_noice.nc'\n",
    "save_ctrl_noice=pathf+'/3x3box_corr_monthly_0181-0190_noice.nc'\n",
    "\n",
    "cc=pathf+'3x3box_anomaly_monthly_1PctTo2X_0181-0190_noice.nc'\n",
    "save_cc_noice=pathf+'3x3box_corr_monthly_1PctTo2X_0181-0190_noice.nc'"
   ]
  },
  {
   "cell_type": "code",
   "execution_count": null,
   "id": "0d561e6f-a3f6-419b-80a6-52d1d1f796eb",
   "metadata": {},
   "outputs": [],
   "source": [
    "corr_all(ctrl, save_ctrl_noice)"
   ]
  },
  {
   "cell_type": "code",
   "execution_count": 6,
   "id": "4ad97462-5cf2-4394-947c-a55eca3f1260",
   "metadata": {},
   "outputs": [],
   "source": [
    "corr_all(cc, save_cc_noice)"
   ]
  },
  {
   "cell_type": "markdown",
   "id": "0ea50a56-f1cd-4574-a377-482ee71c74fa",
   "metadata": {},
   "source": [
    "# seasonal correlations"
   ]
  },
  {
   "cell_type": "code",
   "execution_count": 7,
   "id": "13324fe3-5c9f-43c0-91d4-4f3b7fd0e7b1",
   "metadata": {},
   "outputs": [],
   "source": [
    "pathf='/gxfs_work/geomar/smomw577/mesoscale_eddies/BOX_filtered/0181-0190/'\n",
    "#control\n",
    "ctrl=pathf+'3x3box_anomaly_monthly_0181-0190_noice.nc'\n",
    "save_ctrl_noice=pathf+'3x3box_corr_seasonally_0181-0190_noice.nc'\n",
    "#climate change\n",
    "cc=pathf+'3x3box_anomaly_monthly_1PctTo2X_0181-0190_noice.nc'\n",
    "save_cc_noice=pathf+'3x3box_corr_seasonally_1PctTo2X_0181-0190_noice.nc'\n",
    "\n",
    "seas_corr(ctrl, save_ctrl_noice)\n",
    "seas_corr(cc, save_cc_noice)"
   ]
  },
  {
   "cell_type": "markdown",
   "id": "cffa4a2a-366a-4a38-937b-16444185296d",
   "metadata": {},
   "source": [
    "## correlation dic and o2"
   ]
  },
  {
   "cell_type": "code",
   "execution_count": 23,
   "id": "4f1b3da1-91f7-4e1f-8cf4-5752276a2566",
   "metadata": {},
   "outputs": [],
   "source": [
    "dsa=xr.open_dataset(pathf+'3x3box_anomaly_monthly_0181-0190_noice.nc')\n",
    "corrssh=xr.corr(dsa.o2_stf, dsa['dic_stf'], dim='time')\n",
    "corrssh.name='corr_o2_stf_'+'dic_stf'"
   ]
  },
  {
   "cell_type": "code",
   "execution_count": 25,
   "id": "60a89b80-6719-4d06-ae37-363343c30312",
   "metadata": {},
   "outputs": [],
   "source": [
    "dsa2=xr.open_dataset(pathf+'3x3box_anomaly_monthly_1PctTo2X_0181-0190_noice.nc')\n",
    "corrssh2=xr.corr(dsa2.o2_stf, dsa2['dic_stf'], dim='time')\n",
    "corrssh2.name='corr_o2_stf_'+'dic_stf_1PctTo2X'"
   ]
  },
  {
   "cell_type": "code",
   "execution_count": 24,
   "id": "886ef36f-7424-44be-9976-f9bd450ec570",
   "metadata": {},
   "outputs": [],
   "source": [
    "corrssh.name='corr_o2_stf_'+'dic_stf_ctrl'"
   ]
  },
  {
   "cell_type": "code",
   "execution_count": null,
   "id": "945417cf-67ce-4782-81bc-2b1cc9e0bc12",
   "metadata": {},
   "outputs": [],
   "source": [
    "savefile=[corrssh, corrssh2]\n",
    "xr.merge(savefile).to_netcdf(pathf+'3x3box_corr_monthly_co2-o2_0181-0190_noice.nc')"
   ]
  },
  {
   "cell_type": "markdown",
   "id": "3ae0096e-484a-4a5e-97d1-f80184c259e6",
   "metadata": {},
   "source": [
    "## correlation dic/o2 and jp_uptake"
   ]
  },
  {
   "cell_type": "code",
   "execution_count": null,
   "id": "c5b4ce91-2396-437c-916b-a68cfb219b37",
   "metadata": {},
   "outputs": [],
   "source": []
  },
  {
   "cell_type": "markdown",
   "id": "9ce520e2-6734-4b4d-8046-cfd576defd81",
   "metadata": {},
   "source": [
    "## correlation dic/o2 and mld"
   ]
  },
  {
   "cell_type": "code",
   "execution_count": null,
   "id": "0e5a0094-8f28-4f2e-b0d6-2cefe051c2d3",
   "metadata": {},
   "outputs": [],
   "source": []
  }
 ],
 "metadata": {
  "kernelspec": {
   "display_name": "Python [conda env:py3_std]",
   "language": "python",
   "name": "conda-env-py3_std-py"
  },
  "language_info": {
   "codemirror_mode": {
    "name": "ipython",
    "version": 3
   },
   "file_extension": ".py",
   "mimetype": "text/x-python",
   "name": "python",
   "nbconvert_exporter": "python",
   "pygments_lexer": "ipython3",
   "version": "3.9.18"
  }
 },
 "nbformat": 4,
 "nbformat_minor": 5
}
