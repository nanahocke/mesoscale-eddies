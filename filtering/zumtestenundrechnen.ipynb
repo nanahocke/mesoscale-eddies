{
 "cells": [
  {
   "cell_type": "code",
   "execution_count": 1,
   "id": "2b475cbe-5c55-4afb-8c53-b2764c77f0de",
   "metadata": {},
   "outputs": [],
   "source": [
    "import numpy as np\n",
    "import dask , dask.distributed\n",
    "import xarray as xr\n",
    "import matplotlib.pyplot as plt\n",
    "import cmocean.cm as cmo\n",
    "import warnings\n",
    "warnings.simplefilter('ignore')\n",
    "import dask_jobqueue\n",
    "from astropy.convolution import Box2DKernel, convolve\n",
    "#import xskillscore as xs\n",
    "from filter import filtering\n",
    "from ice_new import create_icemask, ice_filter\n",
    "from calculations import concat_data, anomalies, corr, corr_all, seas_corr"
   ]
  },
  {
   "cell_type": "code",
   "execution_count": 31,
   "id": "56975d5d-692e-4197-b715-46953e99801a",
   "metadata": {},
   "outputs": [],
   "source": [
    "path='/gxfs_work/geomar/smomw577/mesoscale_eddies/MOM5_concat/0181-0190/'\n",
    "mld=xr.open_dataset(path+'ocean_mld_control_0181-0190.nc').drop('time_bnds')\n",
    "path_box='/gxfs_work/geomar/smomw577/mesoscale_eddies/BOX_filtered/0181-0190/'"
   ]
  },
  {
   "cell_type": "code",
   "execution_count": null,
   "id": "fa648da0-b4b5-4f6a-b76a-9436720b0aab",
   "metadata": {},
   "outputs": [],
   "source": [
    "mld_filtered=filtering(mld)\n",
    "mld_filtered.to_netcdf(path_box+'3x3box_mld_monthly_0181-0190.nc')"
   ]
  },
  {
   "cell_type": "code",
   "execution_count": null,
   "id": "67eaa990-9c10-475e-8bd9-f7f8dd923a80",
   "metadata": {},
   "outputs": [],
   "source": []
  }
 ],
 "metadata": {
  "kernelspec": {
   "display_name": "Python [conda env:py3_std]",
   "language": "python",
   "name": "conda-env-py3_std-py"
  },
  "language_info": {
   "codemirror_mode": {
    "name": "ipython",
    "version": 3
   },
   "file_extension": ".py",
   "mimetype": "text/x-python",
   "name": "python",
   "nbconvert_exporter": "python",
   "pygments_lexer": "ipython3",
   "version": "3.9.18"
  }
 },
 "nbformat": 4,
 "nbformat_minor": 5
}
