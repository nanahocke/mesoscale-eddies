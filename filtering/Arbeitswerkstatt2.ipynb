{
 "cells": [
  {
   "cell_type": "code",
   "execution_count": 1,
   "id": "571806af-1e51-4040-8e10-07ce87b91434",
   "metadata": {},
   "outputs": [],
   "source": [
    "import numpy as np\n",
    "import dask , dask.distributed\n",
    "import xarray as xr\n",
    "import matplotlib.pyplot as plt\n",
    "import cmocean.cm as cmo\n",
    "import warnings\n",
    "warnings.simplefilter('ignore')\n",
    "import dask_jobqueue\n",
    "from astropy.convolution import Box2DKernel, convolve\n",
    "#import xskillscore as xs\n",
    "from scipy.ndimage import generic_filter"
   ]
  },
  {
   "cell_type": "code",
   "execution_count": 2,
   "id": "6fa64d9b-524f-410d-b08d-aa38633bf6fa",
   "metadata": {},
   "outputs": [],
   "source": [
    "def Data_3D_median(data, time='time'):\n",
    "    #filters for every time step, need to specify time --> 'month', 'time'\n",
    "    res=[]\n",
    "    for date in data[time]:\n",
    "        conv=median_filter(data.sel(time=date), size=30)\n",
    "        res.append(conv)\n",
    "    da_res=xr.concat(res, dim=time)\n",
    "    return da_res\n",
    "   \n",
    "\n",
    "def median_filter(data, size=30):\n",
    "    filtered_data = generic_filter(data, np.nanmedian, size=size, mode=\"wrap\")\n",
    "    filtered_data=data.copy(data=filtered_data)\n",
    "    return filtered_data\n",
    "\n",
    "def filtering(dscc):\n",
    "    ds_ano=[]\n",
    "    for var in list(dscc.keys()):\n",
    "        ano=Data_3D_median(dscc[var])\n",
    "        ds_ano.append(ano)\n",
    "    ds_ano=xr.merge(ds_ano)\n",
    "    return ds_ano"
   ]
  },
  {
   "cell_type": "code",
   "execution_count": 5,
   "id": "e739fd15-577f-4dbc-8f07-7befb93667c3",
   "metadata": {},
   "outputs": [],
   "source": [
    "ds=xr.open_dataset('/gxfs_work/geomar/smomw577/mesoscale_eddies/MOM5_concat/0181-0190/MOM5_monthly_0181-0190_noice_all.nc')"
   ]
  },
  {
   "cell_type": "code",
   "execution_count": 6,
   "id": "53ba3858-adda-46c8-ab63-7601b45ebeeb",
   "metadata": {},
   "outputs": [],
   "source": [
    "ds_sshsst=ds[['SSH_1PctTo2X', 'SST_1PctTo2X']]"
   ]
  },
  {
   "cell_type": "code",
   "execution_count": 7,
   "id": "deae73a0-0b9a-403c-b8db-f3b963687b1e",
   "metadata": {},
   "outputs": [],
   "source": [
    "#save='/gxfs_work/geomar/smomw577/mesoscale_eddies/BOX_filtered/0181-0190/3x3box_median_monthly_0181-0190_noice_sshsst.nc'\n",
    "savecc='/gxfs_work/geomar/smomw577/mesoscale_eddies/BOX_filtered/0181-0190/3x3box_median_monthly_1PctTo2X_0181-0190_noice_sshsst.nc'"
   ]
  },
  {
   "cell_type": "code",
   "execution_count": null,
   "id": "cc9408e8-7ddd-4f61-ae71-afcabdeae5e9",
   "metadata": {},
   "outputs": [],
   "source": [
    "ds_ano=filtering(ds_sshsst)\n",
    "ds_ano.to_netcdf(savecc)"
   ]
  },
  {
   "cell_type": "code",
   "execution_count": null,
   "id": "56d677dd-622c-4383-8fec-66bb1d4497c9",
   "metadata": {},
   "outputs": [],
   "source": []
  },
  {
   "cell_type": "code",
   "execution_count": null,
   "id": "66aa505a-e57a-4c8f-a012-077ac7fdd6c9",
   "metadata": {},
   "outputs": [],
   "source": []
  }
 ],
 "metadata": {
  "kernelspec": {
   "display_name": "Python [conda env:py3_std]",
   "language": "python",
   "name": "conda-env-py3_std-py"
  },
  "language_info": {
   "codemirror_mode": {
    "name": "ipython",
    "version": 3
   },
   "file_extension": ".py",
   "mimetype": "text/x-python",
   "name": "python",
   "nbconvert_exporter": "python",
   "pygments_lexer": "ipython3",
   "version": "3.9.18"
  }
 },
 "nbformat": 4,
 "nbformat_minor": 5
}
